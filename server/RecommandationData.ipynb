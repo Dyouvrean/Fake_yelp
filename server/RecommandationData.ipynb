{
 "cells": [
  {
   "cell_type": "code",
   "execution_count": 1,
   "metadata": {},
   "outputs": [],
   "source": [
    "import sqlite3\n",
    "import pandas as pd\n",
    "import numpy as np\n",
    "import json\n",
    "import matplotlib.pyplot as plt\n",
    "from sklearn.decomposition import TruncatedSVD\n",
    "from sklearn.cluster import KMeans"
   ]
  },
  {
   "cell_type": "code",
   "execution_count": 2,
   "metadata": {},
   "outputs": [],
   "source": [
    "conn = sqlite3.connect('yelp_dataset_business.db') \n",
    "df_business= pd.read_sql(\"\"\"SELECT * FROM business\"\"\",conn )\n",
    "conn.close()"
   ]
  },
  {
   "cell_type": "code",
   "execution_count": 3,
   "metadata": {},
   "outputs": [],
   "source": [
    "df_business.is_open = df_business.is_open.astype(int)\n",
    "df_business[\"review_count\"]= df_business[\"review_count\"].astype(int)\n",
    "df_business['attributes']= df_business['attributes'].apply(lambda x: eval(x) if x else None)\n",
    "df_business['hours']= df_business['hours'].apply(lambda x: eval(x) if x else None)"
   ]
  },
  {
   "cell_type": "code",
   "execution_count": 4,
   "metadata": {},
   "outputs": [],
   "source": [
    "conn = sqlite3.connect('yelp_dataset_reviews.db') \n",
    "df_reviews= pd.read_sql(\"\"\"SELECT ubt.*\n",
    "                        FROM reviews ubt\n",
    "                        INNER JOIN (\n",
    "                         SELECT user_id, business_id, MAX(date) as max_date\n",
    "                        FROM reviews\n",
    "                        GROUP BY 1,2\n",
    ") grouped_ubt ON ubt.user_id = grouped_ubt.user_id\n",
    "              AND ubt.business_id = grouped_ubt.business_id\n",
    "              AND ubt.date = grouped_ubt.max_date;\n",
    "\"\"\",conn )\n",
    "conn.close()"
   ]
  },
  {
   "cell_type": "code",
   "execution_count": 6,
   "metadata": {},
   "outputs": [
    {
     "data": {
      "text/plain": [
       "Beauty & Spas, Nail Salons                                                                                       1012\n",
       "Restaurants, Pizza                                                                                                935\n",
       "Nail Salons, Beauty & Spas                                                                                        934\n",
       "Pizza, Restaurants                                                                                                823\n",
       "Restaurants, Mexican                                                                                              728\n",
       "                                                                                                                 ... \n",
       "Dermatologists, Health & Medical, Cosmetic Surgeons, Doctors, Acne Treatment, Skin Care, Beauty & Spas              1\n",
       "Home Services, Home & Garden, Nurseries & Gardening, Hardware Stores, Shopping, Building Supplies, Appliances       1\n",
       "Food Trucks, Smokehouse, Restaurants, Food, Barbeque, Soul Food, Food Stands                                        1\n",
       "Assisted Living Facilities, Memory Care, Health & Medical, Hospice                                                  1\n",
       "Beauty & Spas, Permanent Makeup, Piercing, Tattoo                                                                   1\n",
       "Name: categories, Length: 83160, dtype: int64"
      ]
     },
     "execution_count": 6,
     "metadata": {},
     "output_type": "execute_result"
    }
   ],
   "source": [
    "df_business['categories'].value_counts()"
   ]
  },
  {
   "cell_type": "code",
   "execution_count": null,
   "metadata": {},
   "outputs": [],
   "source": []
  }
 ],
 "metadata": {
  "kernelspec": {
   "display_name": "deeplearning",
   "language": "python",
   "name": "python3"
  },
  "language_info": {
   "codemirror_mode": {
    "name": "ipython",
    "version": 3
   },
   "file_extension": ".py",
   "mimetype": "text/x-python",
   "name": "python",
   "nbconvert_exporter": "python",
   "pygments_lexer": "ipython3",
   "version": "3.10.13"
  }
 },
 "nbformat": 4,
 "nbformat_minor": 2
}
